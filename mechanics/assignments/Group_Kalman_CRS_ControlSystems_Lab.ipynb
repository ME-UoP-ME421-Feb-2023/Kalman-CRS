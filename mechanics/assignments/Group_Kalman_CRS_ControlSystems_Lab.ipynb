{
  "nbformat": 4,
  "nbformat_minor": 0,
  "metadata": {
    "colab": {
      "provenance": [],
      "include_colab_link": true
    },
    "kernelspec": {
      "name": "python3",
      "display_name": "Python 3"
    },
    "language_info": {
      "name": "python"
    }
  },
  "cells": [
    {
      "cell_type": "markdown",
      "metadata": {
        "id": "view-in-github",
        "colab_type": "text"
      },
      "source": [
        "<a href=\"https://colab.research.google.com/github/ME-UoP-ME421/Kalman-CRS/blob/main/mechanics/assignments/Group_Kalman_CRS_ControlSystems_Lab.ipynb\" target=\"_parent\"><img src=\"https://colab.research.google.com/assets/colab-badge.svg\" alt=\"Open In Colab\"/></a>"
      ]
    },
    {
      "cell_type": "markdown",
      "source": [
        "#Instructions"
      ],
      "metadata": {
        "id": "tjwc7ZikCWjn"
      }
    },
    {
      "cell_type": "markdown",
      "source": [
        "* This is a group assignment. Complete the activities in groups that were assigned for ME421 for the vibrations lab.\n",
        "\n",
        "* Make a copy of this and save it in your group github group repository.\n",
        "\n",
        "* Do all your work, EXCLUSIVELY, in that saved notebook. Your github commits will serve as a refelection of your individual contributions. It will constitute 25% of your final grade for the lab.\n",
        "\n",
        "* Complete all the first 3 tasks by 21/06/2023 and demonstrate the work in the class on 21/06/2023.\n",
        "\n",
        "* Complete Tasks#1 and Task#2 by 5:00PM on 14/06/2023\n",
        "\n",
        "* Complete Tasks#3 and the Task#4 by 5:00PM on 21/06/2023 and demonstrate the work in the class on 21/06/2023.\n",
        "\n",
        "* Complete Task#5 by 5:00PM on 28/06/2023."
      ],
      "metadata": {
        "id": "pOeY40kCCZIY"
      }
    },
    {
      "cell_type": "markdown",
      "source": [
        "#References"
      ],
      "metadata": {
        "id": "xQxmvsoX2wtl"
      }
    },
    {
      "cell_type": "markdown",
      "source": [
        "* https://colab.research.google.com/github/mugalan/classical-mechanics-from-a-geometric-point-of-view/blob/main/rigid-body-control/Mugas_Rigid_Body_Control.ipynb\n",
        "\n",
        "* https://github.com/mugalan/classical-mechanics-from-a-geometric-point-of-view/blob/main/rigid-body-control/MaithriPalaDHS_RigidBodyPIDControl_IITB_18_03_2023.pdf"
      ],
      "metadata": {
        "id": "N2PYkHmG2y9o"
      }
    },
    {
      "cell_type": "markdown",
      "source": [
        "#Task#1"
      ],
      "metadata": {
        "id": "JhWYC6Kv2l4k"
      }
    },
    {
      "cell_type": "markdown",
      "metadata": {
        "id": "GjPELOm2sJQg"
      },
      "source": [
        "Conside a rigid body moving in space. Let $\\mathbf{b}$ be a body fixed frame with the origin coinciding with that of the center of mass of the body, $M$ be the tatal mass of the body, $\\mathbb{I}$ be the inertia tensor of the body with respect to the body frame $\\mathbf{b}$, $f^e$ be the resultant total external interactions acting on the particles of the body, and $\\tau^e$ be the total resultant of the moments of the external interactions about the center of mass of the body.\n",
        "\n",
        "Show that a general rigid body is descibed by the following simple equations in an inertial frame $\\mathbf{e}$ where the moments are taken about the center of mass of the rigid body."
      ]
    },
    {
      "cell_type": "markdown",
      "metadata": {
        "id": "2FFWl8Whs8HJ"
      },
      "source": [
        "\\begin{align}\n",
        "\\dot{o}&=\\frac{1}{M}p\\\\\n",
        "\\dot{R}&=\\widehat{\\omega}R,\\\\\n",
        "\\dot{p}&=f^e+f^u,\\\\\n",
        "\\dot{\\pi}&=\\tau^e+\\tau^u,\n",
        "\\end{align}\n",
        "where\n",
        "\\begin{align}\n",
        "\\omega &=(\\mathbb{I}_c^R)^{-1}\\pi,\n",
        "\\end{align}\n",
        "Here we have split the force and control moments into unmanipulatable and manipulatable (control) part. The manipulatable (control) part will be denoted by a superscript $u$."
      ]
    },
    {
      "cell_type": "markdown",
      "source": [
        "##Answer"
      ],
      "metadata": {
        "id": "upIQ4VBxjOMo"
      }
    },
    {
      "cell_type": "markdown",
      "source": [
        "$\\dot{o}=\\frac{1}{M}p$ \\\\\n",
        "According to newtons second law, \\\\\n",
        "\n",
        "\\begin{equation}\n",
        "\\frac{d\\mathbf{p}}{dt} = \\sum \\mathbf{F},\n",
        "\\end{equation}\n",
        "\n",
        "where,  $\\frac{d\\mathbf{p}}{dt}$ is the derivative of the momentum vector $\\mathbf{p}$ with respect to time and $\\sum \\mathbf{F}$ is sum of all external forces actong on the body. \\\\\n",
        "\n",
        "for the rigid body $\\mathbf{p}$ is the sum of linear momenta of all particles in the body. \\\\\n",
        "\n",
        "So,\n",
        "\\begin{equation}\n",
        "\\mathbf{p} = \\sum m_i \\mathbf{v}_i,\n",
        "\\end{equation}\n",
        "\n",
        "Here $m_i$ and $\\mathbf{v}_i$ are the $i$-th particles of mass and velocity. \\\\\n",
        "The center of mass of a rigid body can be written as,\n",
        "\n",
        "\\begin{equation}\n",
        "\\mathbf{o} = \\frac{1}{M} \\sum m_i \\mathbf{r}_i,\n",
        "\\end{equation}\n",
        "\n",
        "where $\\mathbf{o}$ is the position vector of the center of mass, $\\mathbf{r}_i$ is the position vector of the $i$-th particle, and $M$ is the total mass of the body, given by $M = \\sum m_i\n",
        "\n",
        "Differentiating with respect to time,\n",
        "\\begin{align}\n",
        "\\dot{\\mathbf{o}} &= \\frac{d}{dt} \\left( \\frac{1}{M} \\sum m_i \\mathbf{r}_i \\right)\n",
        "= \\frac{1}{M} \\sum m_i \\frac{d\\mathbf{r}_i}{dt}\n",
        "= \\frac{1}{M} \\sum m_i \\mathbf{v}_i\n",
        "= \\frac{1}{M} \\mathbf{p}.\n",
        "\\end{align}\n",
        "\n",
        "here equation $\\dot{\\mathbf{o}} = \\frac{1}{M} \\mathbf{p}$ shows that the rate of change of the center of mass position is equal to the total linear momentum divided by the total mass of the body.\n"
      ],
      "metadata": {
        "id": "Ko3rqy_0jSrK"
      }
    },
    {
      "cell_type": "markdown",
      "source": [
        "$\\dot{R}=\\widehat{\\omega}R$ \\\\\n",
        "Consider a rigid body rotating in three-dimensional space. \\\\\n",
        "where $R$ is the orientation of the body can be represented by a rotation matrix. $\\boldsymbol{\\omega}$ describes the rate at which the body is rotating. \\\\\n",
        "\\\\\n",
        "Consider a point $P$ fixed in the body frame. \\\\\n",
        "the position vector in inertial frame can be expressed as $\\mathbf{r} = R \\mathbf{r}_0$.Take the time derivative of $\\mathbf{r}$  \\\\\n",
        "\n",
        "\\begin{align}\n",
        "\\dot{\\mathbf{r}} &= \\frac{d}{dt} (R \\mathbf{r}_0)\n",
        "= \\dot{R} \\mathbf{r}_0.\n",
        "\\end{align}\n",
        "\n",
        "velocity $\\mathbf{v}$ of point $P$ is given by,\n",
        "\\begin{equation}\n",
        "\\mathbf{v} = \\boldsymbol{\\omega} \\times \\mathbf{r}.\n",
        "\\end{equation}\n",
        "\n",
        "simplify time derivative of $\\mathbf{r}$ using the product rule,\n",
        "\\begin{align}\n",
        "\\dot{\\mathbf{r}} = \\frac{d}{dt} (R \\mathbf{r}_0)\n",
        "= \\dot{R} \\mathbf{r}_0\n",
        "= (\\dot{R} \\mathbf{r}_0) \\times \\mathbf{r}\n",
        "= (\\dot{R} \\mathbf{r}_0) \\times (R \\mathbf{r}_0).\n",
        "\\end{align}\n",
        "\n",
        "Equate the expressions for $\\mathbf{v}$,\n",
        "\\begin{equation}\n",
        "\\boldsymbol{\\omega} \\times \\mathbf{r} = (\\dot{R} \\mathbf{r}_0) \\times (R \\mathbf{r}_0). \\\\\n",
        "\\boldsymbol{\\omega} \\times \\mathbf{r} = \\dot{R} R \\mathbf{r}_0. \\\\\n",
        "\\boldsymbol{\\omega} \\times (R \\mathbf{r}_0) = \\dot{R} R \\mathbf{r}_0. where, \\mathbf{r} = R \\mathbf{r}_0 \\\\\n",
        "\\boldsymbol{\\omega} \\times \\mathbf{r}_0 = \\dot{R} R.\n",
        "\\end{equation}\n",
        "\n",
        "Finally, we recognize that $\\boldsymbol{\\omega} \\times \\mathbf{r}_0$ is the cross product of $\\boldsymbol{\\omega}$ with the position vector $\\mathbf{r}_0$, which can be expressed as the skew-symmetric matrix $\\widehat{\\boldsymbol{\\omega}}$:\n",
        "\\begin{equation}\n",
        "\\boldsymbol{\\omega} \\times \\mathbf{r}_0 = \\widehat{\\boldsymbol{\\omega}} \\mathbf{r}_0.\n",
        "\\end{equation}\n",
        "substitute to previous equation\n",
        "\\begin{equation}\n",
        "\\widehat{\\boldsymbol{\\omega}} \\mathbf{r}_0 = \\dot{R} R.\n",
        "\\end{equation}\n",
        "\n",
        "This equation relates the derivative of the rotation matrix $\\dot{R}$ to the skew-symmetric matrix $\\widehat{\\boldsymbol{\\omega}}$. Thus, we have derived the equation $\\dot{R} = \\widehat{\\boldsymbol{\\omega}} R$, which describes the rotational motion of a rigid body.\n",
        "\n"
      ],
      "metadata": {
        "id": "Igx5CiCKjWTK"
      }
    },
    {
      "cell_type": "markdown",
      "source": [
        "$\\dot{p} = f^e + f^u$ \\\\\n",
        "$\\dot{\\pi} = \\tau^e + \\tau^u$ \\\\\n",
        "\n",
        "**Linear Momentum:**\n",
        "According to newtons second law,\n",
        "\\begin{equation}\n",
        "\\dot{p} = \\sum f,\n",
        "\\end{equation}\n",
        "where $\\dot{p}$ represents the time derivative of linear momentum, and $\\sum f$ denotes the sum of all forces acting on the body. \\\\\n",
        "\n",
        "**External and Unmanipulatable Forces:**\n",
        "forces acting on a body can come from both external sources and internal sources. \\\\\n",
        "we split the total force into two parts: the resultant external force $f^e$ and the unmanipulatable force $f^u$. \\\\\n",
        "gravity, contact forces, or fluid interactions are represent as resultant external forces $f^e$ where the net force exerted on the body by external sources. \\\\\n",
        "The unmanipulatable force $f^u$ represents forces that arise from internal sources (such as control forces) or external sources that the body can control or manipulate.\\\\\n",
        "\n",
        "**Angular Momentum:**\n",
        "this is same as linear momentum. when external moments act on a rigid body, the angular momentum changes. this can be given in,\n",
        "\\begin{equation}\n",
        "\\dot{\\pi} = \\sum \\tau,\n",
        "\\end{equation}\n",
        "\n",
        "where $\\dot{\\pi}$ represents the time derivative of angular momentum, and $\\sum \\tau$ denotes the sum of all moments acting on the body. \\\\\n",
        "\n",
        "\n",
        "**External and Unmanipulatable Moments:**\n",
        "moments acting on the body can come from both external and internal sources. \\\\\n",
        "total moment is separate into two parts: the resultant external moment $\\tau^e$ and the unmanipulatable moment $\\tau^u$. \\\\\n",
        "The resultant external moment $\\tau^e$ represents the net moment exerted on the body by external sources \\\\\n",
        "The unmanipulatable moment $\\tau^u$ represents moments that arise from internal sources (such as control moments) or external sources that the body can control or manipulate. \\\\\n",
        "\n",
        "**Combining External and Unmanipulatable Parts:** \\\\\n",
        "To consider both the external and unmanipulatable forces and moments, we add the respective parts together. such as,\n",
        "\\begin{equation}\n",
        "\\dot{p} = f^e + f^u, \\quad \\dot{\\pi} = \\tau^e + \\tau^u.\n",
        "\\end{equation}\n",
        "\n",
        "These equations express the change in linear momentum and angular momentum of a rigid body as the sum of the resultant external interactions ($f^e$ and $\\tau^e$) and the unmanipulatable interactions ($f^u$ and $\\tau^u$)."
      ],
      "metadata": {
        "id": "en4qy1F5jb8j"
      }
    },
    {
      "cell_type": "markdown",
      "source": [
        "#Task#2"
      ],
      "metadata": {
        "id": "PT5T8y9-3h1H"
      }
    },
    {
      "cell_type": "markdown",
      "source": [
        "Simulate the motion of a quadrotor UAV without resorting any parameterization of $SO(3)$ such as Euler angles or quaternions."
      ],
      "metadata": {
        "id": "iETMxXB04IZj"
      }
    },
    {
      "cell_type": "markdown",
      "source": [
        "#Task#3"
      ],
      "metadata": {
        "id": "iYtoUarB4L6Q"
      }
    },
    {
      "cell_type": "markdown",
      "source": [
        "Deerive a PID controller for the attitude control of a quadrorotor and use simulations to demibstrate the very large region of stability of the controller"
      ],
      "metadata": {
        "id": "AxOY5o-34TCz"
      }
    },
    {
      "cell_type": "markdown",
      "source": [
        "Here are few example our own implementations of this controller.\n",
        "\n",
        "* https://youtu.be/6E9WDQNVSYA\n",
        "* https://youtu.be/uUKxXImRMOA\n",
        "* https://youtu.be/zq05N8m_9SA\n",
        "* https://youtu.be/J5dThZGZN2g\n",
        "* https://youtu.be/J5MMp6Be3tU\n",
        "* https://youtu.be/6ZQgE1FI6Wc"
      ],
      "metadata": {
        "id": "cInu25giFEXw"
      }
    },
    {
      "cell_type": "markdown",
      "source": [
        "#Task#4"
      ],
      "metadata": {
        "id": "o6XRW2MR4nVw"
      }
    },
    {
      "cell_type": "markdown",
      "source": [
        "Derive a specialization of the controller develoed in Task#3 for the problem of stabilzing an inverted pendulum on a cart."
      ],
      "metadata": {
        "id": "u9vdw-yM4rem"
      }
    },
    {
      "cell_type": "markdown",
      "source": [
        "#Task#5"
      ],
      "metadata": {
        "id": "jkEiEv8sEPhG"
      }
    },
    {
      "cell_type": "markdown",
      "source": [
        " Experimentally verify the stability properties of the controller derived in Task#5 using the experimental setup available in the applied mechanics lab."
      ],
      "metadata": {
        "id": "w2WRdKSTEQ7i"
      }
    }
  ]
}